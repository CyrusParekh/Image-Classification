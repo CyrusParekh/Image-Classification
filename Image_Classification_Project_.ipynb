{
  "cells": [
    {
      "cell_type": "markdown",
      "source": [
        "## Introduction"
      ],
      "metadata": {
        "id": "fi7DTHyZYoDc"
      }
    },
    {
      "cell_type": "markdown",
      "source": [
        "The purpose of this project is to choose an image dataset and then develop an image classification algorithm using a neural network."
      ],
      "metadata": {
        "id": "wGazS_p4WgPF"
      }
    },
    {
      "cell_type": "code",
      "source": [
        "!pip install keras_tuner"
      ],
      "metadata": {
        "colab": {
          "base_uri": "https://localhost:8080/"
        },
        "id": "1Op3t_ZvUvrW",
        "outputId": "b0dfdff5-e9fa-4fab-e6bd-499eeee33952"
      },
      "execution_count": 2,
      "outputs": [
        {
          "output_type": "stream",
          "name": "stdout",
          "text": [
            "Collecting keras_tuner\n",
            "  Downloading keras_tuner-1.4.7-py3-none-any.whl (129 kB)\n",
            "\u001b[2K     \u001b[90m━━━━━━━━━━━━━━━━━━━━━━━━━━━━━━━━━━━━━━━━\u001b[0m \u001b[32m129.1/129.1 kB\u001b[0m \u001b[31m1.3 MB/s\u001b[0m eta \u001b[36m0:00:00\u001b[0m\n",
            "\u001b[?25hRequirement already satisfied: keras in /usr/local/lib/python3.10/dist-packages (from keras_tuner) (2.15.0)\n",
            "Requirement already satisfied: packaging in /usr/local/lib/python3.10/dist-packages (from keras_tuner) (24.0)\n",
            "Requirement already satisfied: requests in /usr/local/lib/python3.10/dist-packages (from keras_tuner) (2.31.0)\n",
            "Collecting kt-legacy (from keras_tuner)\n",
            "  Downloading kt_legacy-1.0.5-py3-none-any.whl (9.6 kB)\n",
            "Requirement already satisfied: charset-normalizer<4,>=2 in /usr/local/lib/python3.10/dist-packages (from requests->keras_tuner) (3.3.2)\n",
            "Requirement already satisfied: idna<4,>=2.5 in /usr/local/lib/python3.10/dist-packages (from requests->keras_tuner) (3.7)\n",
            "Requirement already satisfied: urllib3<3,>=1.21.1 in /usr/local/lib/python3.10/dist-packages (from requests->keras_tuner) (2.0.7)\n",
            "Requirement already satisfied: certifi>=2017.4.17 in /usr/local/lib/python3.10/dist-packages (from requests->keras_tuner) (2024.2.2)\n",
            "Installing collected packages: kt-legacy, keras_tuner\n",
            "Successfully installed keras_tuner-1.4.7 kt-legacy-1.0.5\n"
          ]
        }
      ]
    },
    {
      "cell_type": "code",
      "execution_count": 3,
      "metadata": {
        "id": "-0l9gDL1BEYC"
      },
      "outputs": [],
      "source": [
        "from PIL import Image\n",
        "from io import BytesIO\n",
        "import matplotlib.pyplot as plt\n",
        "import numpy as np\n",
        "import requests\n",
        "import keras\n",
        "import keras_tuner\n",
        "from keras import layers, regularizers\n",
        "from keras.optimizers.legacy import Adam\n",
        "from keras.callbacks import EarlyStopping, TensorBoard"
      ]
    },
    {
      "cell_type": "markdown",
      "source": [
        "## Load Data"
      ],
      "metadata": {
        "id": "B_pcDTlPYyJY"
      }
    },
    {
      "cell_type": "markdown",
      "source": [
        "This project uses the fashion_mnist dataset. It's comprised of 28 x 28 grayscale images spanning 10 types of clothing."
      ],
      "metadata": {
        "id": "ui_gjmKYW5EX"
      }
    },
    {
      "cell_type": "code",
      "execution_count": 4,
      "metadata": {
        "id": "_N_K4WlMLwii"
      },
      "outputs": [],
      "source": [
        "from keras.datasets import fashion_mnist"
      ]
    },
    {
      "cell_type": "markdown",
      "source": [
        "The code below creates and looks at a train test split"
      ],
      "metadata": {
        "id": "q-ZJqvvMY4qx"
      }
    },
    {
      "cell_type": "code",
      "execution_count": 5,
      "metadata": {
        "id": "jBAEyL93MKpK",
        "colab": {
          "base_uri": "https://localhost:8080/"
        },
        "outputId": "4b051ae9-33b8-4745-c27a-21b1c16d2677"
      },
      "outputs": [
        {
          "output_type": "stream",
          "name": "stdout",
          "text": [
            "Downloading data from https://storage.googleapis.com/tensorflow/tf-keras-datasets/train-labels-idx1-ubyte.gz\n",
            "29515/29515 [==============================] - 0s 0us/step\n",
            "Downloading data from https://storage.googleapis.com/tensorflow/tf-keras-datasets/train-images-idx3-ubyte.gz\n",
            "26421880/26421880 [==============================] - 0s 0us/step\n",
            "Downloading data from https://storage.googleapis.com/tensorflow/tf-keras-datasets/t10k-labels-idx1-ubyte.gz\n",
            "5148/5148 [==============================] - 0s 0us/step\n",
            "Downloading data from https://storage.googleapis.com/tensorflow/tf-keras-datasets/t10k-images-idx3-ubyte.gz\n",
            "4422102/4422102 [==============================] - 1s 0us/step\n"
          ]
        }
      ],
      "source": [
        "(train_X, train_y), (test_X, test_y) = fashion_mnist.load_data()"
      ]
    },
    {
      "cell_type": "code",
      "execution_count": 6,
      "metadata": {
        "colab": {
          "base_uri": "https://localhost:8080/"
        },
        "id": "hoRiWPm-MPCK",
        "outputId": "38c6ec3e-e3b6-433a-9293-296b0a463fb9"
      },
      "outputs": [
        {
          "output_type": "stream",
          "name": "stdout",
          "text": [
            "X_train: (60000, 28, 28)\n",
            "Y_train: (60000,)\n",
            "X_test:  (10000, 28, 28)\n",
            "Y_test:  (10000,)\n"
          ]
        }
      ],
      "source": [
        "print('X_train: ' + str(train_X.shape))\n",
        "print('Y_train: ' + str(train_y.shape))\n",
        "print('X_test:  '  + str(test_X.shape))\n",
        "print('Y_test:  '  + str(test_y.shape))"
      ]
    },
    {
      "cell_type": "markdown",
      "source": [
        "From this we can see that were using 60,000 images on the training dataset and 10,000 on the test dataset."
      ],
      "metadata": {
        "id": "bti8x7WcT7W_"
      }
    },
    {
      "cell_type": "markdown",
      "source": [
        "The code below looks at the actual images within the data set"
      ],
      "metadata": {
        "id": "t2HKT8xWZIB9"
      }
    },
    {
      "cell_type": "code",
      "execution_count": 7,
      "metadata": {
        "colab": {
          "base_uri": "https://localhost:8080/",
          "height": 1000
        },
        "id": "s8ogUVfFMetu",
        "outputId": "3569810a-a46d-4bf7-907e-8b8927ae8be3"
      },
      "outputs": [
        {
          "output_type": "display_data",
          "data": {
            "text/plain": [
              "<Figure size 640x480 with 1 Axes>"
            ],
            "image/png": "[encoded data removed]"
          },
          "metadata": {}
        },
        {
          "output_type": "stream",
          "name": "stdout",
          "text": [
            "9\n"
          ]
        },
        {
          "output_type": "display_data",
          "data": {
            "text/plain": [
              "<Figure size 640x480 with 1 Axes>"
            ],
            "image/png": "[encoded data removed]"
          },
          "metadata": {}
        },
        {
          "output_type": "stream",
          "name": "stdout",
          "text": [
            "0\n"
          ]
        },
        {
          "output_type": "display_data",
          "data": {
            "text/plain": [
              "<Figure size 640x480 with 1 Axes>"
            ],
            "image/png": "[encoded data removed]"
          },
          "metadata": {}
        },
        {
          "output_type": "stream",
          "name": "stdout",
          "text": [
            "0\n"
          ]
        },
        {
          "output_type": "display_data",
          "data": {
            "text/plain": [
              "<Figure size 640x480 with 1 Axes>"
            ],
            "image/png": "[encoded data removed]"
          },
          "metadata": {}
        },
        {
          "output_type": "stream",
          "name": "stdout",
          "text": [
            "3\n"
          ]
        },
        {
          "output_type": "display_data",
          "data": {
            "text/plain": [
              "<Figure size 640x480 with 1 Axes>"
            ],
            "image/png": "[encoded data removed]"
          },
          "metadata": {}
        },
        {
          "output_type": "stream",
          "name": "stdout",
          "text": [
            "0\n"
          ]
        },
        {
          "output_type": "display_data",
          "data": {
            "text/plain": [
              "<Figure size 640x480 with 1 Axes>"
            ],
            "image/png": "[encoded data removed]"
          },
          "metadata": {}
        },
        {
          "output_type": "stream",
          "name": "stdout",
          "text": [
            "2\n"
          ]
        },
        {
          "output_type": "display_data",
          "data": {
            "text/plain": [
              "<Figure size 640x480 with 1 Axes>"
            ],
            "image/png": "[encoded data removed]"
          },
          "metadata": {}
        },
        {
          "output_type": "stream",
          "name": "stdout",
          "text": [
            "7\n"
          ]
        },
        {
          "output_type": "display_data",
          "data": {
            "text/plain": [
              "<Figure size 640x480 with 1 Axes>"
            ],
            "image/png": "[encoded data removed]"
          },
          "metadata": {}
        },
        {
          "output_type": "stream",
          "name": "stdout",
          "text": [
            "2\n"
          ]
        },
        {
          "output_type": "display_data",
          "data": {
            "text/plain": [
              "<Figure size 640x480 with 1 Axes>"
            ],
            "image/png": "[encoded data removed]"
          },
          "metadata": {}
        },
        {
          "output_type": "stream",
          "name": "stdout",
          "text": [
            "5\n"
          ]
        }
      ],
      "source": [
        "for i in range(9):\n",
        "  plt.subplot(330 + 1 + i)\n",
        "  plt.imshow(train_X[i], cmap=plt.get_cmap('gray'))\n",
        "  plt.show()\n",
        "  print(train_y[i])"
      ]
    },
    {
      "cell_type": "markdown",
      "source": [
        "We can see that some classes of the dataset might be harder to distinguish from others. For example a sneaker vs sandals or pull-over vs shirt."
      ],
      "metadata": {
        "id": "Ck4H62GVejQT"
      }
    },
    {
      "cell_type": "markdown",
      "source": [
        "## Data Preparation"
      ],
      "metadata": {
        "id": "K4M-SN1p0y6g"
      }
    },
    {
      "cell_type": "code",
      "source": [
        "train_X"
      ],
      "metadata": {
        "colab": {
          "base_uri": "https://localhost:8080/"
        },
        "id": "uNp0gN983uaB",
        "outputId": "babfc851-2ad3-4e38-cf74-b3183799508d"
      },
      "execution_count": 17,
      "outputs": [
        {
          "output_type": "execute_result",
          "data": {
            "text/plain": [
              "array([[[0, 0, 0, ..., 0, 0, 0],\n",
              "        [0, 0, 0, ..., 0, 0, 0],\n",
              "        [0, 0, 0, ..., 0, 0, 0],\n",
              "        ...,\n",
              "        [0, 0, 0, ..., 0, 0, 0],\n",
              "        [0, 0, 0, ..., 0, 0, 0],\n",
              "        [0, 0, 0, ..., 0, 0, 0]],\n",
              "\n",
              "       [[0, 0, 0, ..., 0, 0, 0],\n",
              "        [0, 0, 0, ..., 0, 0, 0],\n",
              "        [0, 0, 0, ..., 0, 0, 0],\n",
              "        ...,\n",
              "        [0, 0, 0, ..., 0, 0, 0],\n",
              "        [0, 0, 0, ..., 0, 0, 0],\n",
              "        [0, 0, 0, ..., 0, 0, 0]],\n",
              "\n",
              "       [[0, 0, 0, ..., 0, 0, 0],\n",
              "        [0, 0, 0, ..., 0, 0, 0],\n",
              "        [0, 0, 0, ..., 0, 0, 0],\n",
              "        ...,\n",
              "        [0, 0, 0, ..., 0, 0, 0],\n",
              "        [0, 0, 0, ..., 0, 0, 0],\n",
              "        [0, 0, 0, ..., 0, 0, 0]],\n",
              "\n",
              "       ...,\n",
              "\n",
              "       [[0, 0, 0, ..., 0, 0, 0],\n",
              "        [0, 0, 0, ..., 0, 0, 0],\n",
              "        [0, 0, 0, ..., 0, 0, 0],\n",
              "        ...,\n",
              "        [0, 0, 0, ..., 0, 0, 0],\n",
              "        [0, 0, 0, ..., 0, 0, 0],\n",
              "        [0, 0, 0, ..., 0, 0, 0]],\n",
              "\n",
              "       [[0, 0, 0, ..., 0, 0, 0],\n",
              "        [0, 0, 0, ..., 0, 0, 0],\n",
              "        [0, 0, 0, ..., 0, 0, 0],\n",
              "        ...,\n",
              "        [0, 0, 0, ..., 0, 0, 0],\n",
              "        [0, 0, 0, ..., 0, 0, 0],\n",
              "        [0, 0, 0, ..., 0, 0, 0]],\n",
              "\n",
              "       [[0, 0, 0, ..., 0, 0, 0],\n",
              "        [0, 0, 0, ..., 0, 0, 0],\n",
              "        [0, 0, 0, ..., 0, 0, 0],\n",
              "        ...,\n",
              "        [0, 0, 0, ..., 0, 0, 0],\n",
              "        [0, 0, 0, ..., 0, 0, 0],\n",
              "        [0, 0, 0, ..., 0, 0, 0]]], dtype=uint8)"
            ]
          },
          "metadata": {},
          "execution_count": 17
        }
      ]
    },
    {
      "cell_type": "markdown",
      "source": [
        "The code below converts this data to a one dimensional array"
      ],
      "metadata": {
        "id": "x3SK8U3GZe7k"
      }
    },
    {
      "cell_type": "code",
      "execution_count": 8,
      "metadata": {
        "id": "poM7_CZrk6xI"
      },
      "outputs": [],
      "source": [
        "#converting to a one dimensional array\n",
        "X_train = train_X.reshape(train_X.shape[0], -1)\n",
        "X_test = test_X.reshape(test_X.shape[0], -1)"
      ]
    },
    {
      "cell_type": "code",
      "source": [
        "X_train"
      ],
      "metadata": {
        "colab": {
          "base_uri": "https://localhost:8080/"
        },
        "id": "NWSEvJAZ3S_Y",
        "outputId": "4291f9cb-3b58-48d3-b598-3ce44772ca80"
      },
      "execution_count": 9,
      "outputs": [
        {
          "output_type": "execute_result",
          "data": {
            "text/plain": [
              "array([[0, 0, 0, ..., 0, 0, 0],\n",
              "       [0, 0, 0, ..., 0, 0, 0],\n",
              "       [0, 0, 0, ..., 0, 0, 0],\n",
              "       ...,\n",
              "       [0, 0, 0, ..., 0, 0, 0],\n",
              "       [0, 0, 0, ..., 0, 0, 0],\n",
              "       [0, 0, 0, ..., 0, 0, 0]], dtype=uint8)"
            ]
          },
          "metadata": {},
          "execution_count": 9
        }
      ]
    },
    {
      "cell_type": "markdown",
      "source": [
        "Looking at the output we can see it's been successfully changed to a one dimensional array"
      ],
      "metadata": {
        "id": "MNf-dfhT35AJ"
      }
    },
    {
      "cell_type": "markdown",
      "source": [
        "The code below normalizes the data"
      ],
      "metadata": {
        "id": "ev_USxXz3Rv_"
      }
    },
    {
      "cell_type": "code",
      "execution_count": 10,
      "metadata": {
        "id": "Zk_cRejyk-AR"
      },
      "outputs": [],
      "source": [
        "#normalization\n",
        "X_train_norm = X_train / 255\n",
        "X_test_norm = X_test / 255"
      ]
    },
    {
      "cell_type": "markdown",
      "source": [
        "## Analysis"
      ],
      "metadata": {
        "id": "-vz7o4h_07Jn"
      }
    },
    {
      "cell_type": "markdown",
      "source": [
        "This is a funtcion with 5 parameters that creates our neural network model."
      ],
      "metadata": {
        "id": "O0XFwnskZ8Zq"
      }
    },
    {
      "cell_type": "code",
      "execution_count": 11,
      "metadata": {
        "id": "jRTQd38ixsLu"
      },
      "outputs": [],
      "source": [
        "def define_model(units, num_layers, activation, lr, l2):\n",
        "    model_layers = [\n",
        "        layers.Dense(units, activation=activation, kernel_regularizer=regularizers.L2(l2=l2), kernel_initializer=keras.initializers.HeNormal())\n",
        "        ] * num_layers  # These are the main hidden layers\n",
        "    model_layers += [layers.Dense(10)]  # 10 output layers for 10 classes\n",
        "    model = keras.Sequential(model_layers)  # This just stacks all our layers on top of each other\n",
        "    model.compile(loss=keras.losses.SparseCategoricalCrossentropy(from_logits=True), metrics=['accuracy'], optimizer=Adam(learning_rate=lr))\n",
        "     #Sparse categorical crossentropy used for compiling multi-class digit classification\n",
        "     #metrics assigned to track accuracy\n",
        "\n",
        "    return model"
      ]
    },
    {
      "cell_type": "markdown",
      "source": [
        "This code sets the hyperparameters and then calls the previous function. l2 regularization (ridge) is used due to generalization and the nature of our features being pixels"
      ],
      "metadata": {
        "id": "a1a36oL2cCJR"
      }
    },
    {
      "cell_type": "code",
      "execution_count": 12,
      "metadata": {
        "id": "oDnglaxwxuG5"
      },
      "outputs": [],
      "source": [
        "def build_model(hp):\n",
        "    units = hp.Choice(\"units\", [256, 512, 1024]) #256 - 1024 units per layer\n",
        "    activation = \"relu\"   # We'll just use ReLu for now\n",
        "    lr = hp.Float(\"lr\", min_value=1e-5, max_value=1e-1, sampling=\"log\")\n",
        "    l2 = hp.Float(\"l2\", min_value=1e-5, max_value=1e-1, sampling=\"log\")\n",
        "    num_layers = hp.Choice(\"num_layers\", [2, 5]) #2 - 5 hidden layers\n",
        "\n",
        "    # call existing model-building code with the hyperparameter values.\n",
        "    model = define_model(units=units, num_layers=num_layers, activation=activation, lr=lr, l2=l2)\n",
        "    return model"
      ]
    },
    {
      "cell_type": "code",
      "execution_count": 13,
      "metadata": {
        "colab": {
          "base_uri": "https://localhost:8080/"
        },
        "id": "08LF5c9Txy7t",
        "outputId": "4c14ba5b-af5d-4440-e0af-e744d0d2efb7"
      },
      "outputs": [
        {
          "output_type": "stream",
          "name": "stdout",
          "text": [
            "Mounted at /content/drive\n"
          ]
        }
      ],
      "source": [
        "from google.colab import drive\n",
        "drive.mount('/content/drive')"
      ]
    },
    {
      "cell_type": "markdown",
      "source": [
        "The code below initializes the tuner and sets the number of trials to 10"
      ],
      "metadata": {
        "id": "gNd6cU9h6sDL"
      }
    },
    {
      "cell_type": "code",
      "execution_count": 14,
      "metadata": {
        "id": "fvt9FOtJx0ih",
        "colab": {
          "base_uri": "https://localhost:8080/"
        },
        "outputId": "34392f1c-54a2-4ae0-c87a-a20934b2d4ee"
      },
      "outputs": [
        {
          "output_type": "stream",
          "name": "stdout",
          "text": [
            "Reloading Tuner from /content/drive/MyDrive/FashionMnistResult/untitled_project/tuner0.json\n"
          ]
        }
      ],
      "source": [
        "tuner = keras_tuner.BayesianOptimization(\n",
        "    hypermodel=build_model,\n",
        "    objective=\"val_loss\", # We want to see accuracy improve on the validation (or test) dataset\n",
        "    max_trials=10,  #10 parameter combinations\n",
        "    executions_per_trial=1,\n",
        "    overwrite=False,\n",
        "    directory=\"/content/drive/MyDrive/FashionMnistResult\", # Save the output somewhere you've created\n",
        ")"
      ]
    },
    {
      "cell_type": "code",
      "execution_count": 15,
      "metadata": {
        "id": "2pFy8tXN0wp0"
      },
      "outputs": [],
      "source": [
        "# This is a \"callback\" function, which will get called at the end of every epoch to check whether the accuracy is still increasing\n",
        "callbacks = [EarlyStopping(monitor=\"val_loss\", patience=2, restore_best_weights=True, start_from_epoch=5)]"
      ]
    },
    {
      "cell_type": "code",
      "execution_count": null,
      "metadata": {
        "colab": {
          "base_uri": "https://localhost:8080/"
        },
        "id": "DUshLVb95pNW",
        "outputId": "c6ecd097-234c-4602-e1bf-3d0200806ef1"
      },
      "outputs": [
        {
          "output_type": "execute_result",
          "data": {
            "text/plain": [
              "(60000,)"
            ]
          },
          "metadata": {},
          "execution_count": 63
        }
      ],
      "source": [
        "train_y.shape"
      ]
    },
    {
      "cell_type": "code",
      "execution_count": null,
      "metadata": {
        "id": "Hyzb19hJ0x8i"
      },
      "outputs": [],
      "source": [
        "tuner.search(\n",
        "    X_train_norm,\n",
        "    train_y,\n",
        "    epochs=10,\n",
        "    verbose=1, #set to 1 in order to look at a progress bar\n",
        "    validation_data=(X_test_norm, test_y),\n",
        "    callbacks=callbacks\n",
        ")"
      ]
    },
    {
      "cell_type": "code",
      "execution_count": null,
      "metadata": {
        "colab": {
          "base_uri": "https://localhost:8080/"
        },
        "id": "0T2pFyw80zrZ",
        "outputId": "98fa6508-5968-44af-d9df-c92943b14189"
      },
      "outputs": [
        {
          "output_type": "stream",
          "name": "stdout",
          "text": [
            "Results summary\n",
            "Results in /content/drive/MyDrive/FashionMnistResult/untitled_project\n",
            "Showing 5 best trials\n",
            "Objective(name=\"val_loss\", direction=\"min\")\n",
            "\n",
            "Trial 02 summary\n",
            "Hyperparameters:\n",
            "units: 256\n",
            "lr: 0.0009812099810752397\n",
            "l2: 1.993140220138288e-05\n",
            "num_layers: 5\n",
            "Score: 0.360119104385376\n",
            "\n",
            "Trial 04 summary\n",
            "Hyperparameters:\n",
            "units: 1024\n",
            "lr: 0.0015064321002527241\n",
            "l2: 1.3552820418325684e-05\n",
            "num_layers: 2\n",
            "Score: 0.3728286623954773\n",
            "\n",
            "Trial 09 summary\n",
            "Hyperparameters:\n",
            "units: 1024\n",
            "lr: 5.685378663535912e-05\n",
            "l2: 0.00270570561993386\n",
            "num_layers: 5\n",
            "Score: 0.49622100591659546\n",
            "\n",
            "Trial 06 summary\n",
            "Hyperparameters:\n",
            "units: 256\n",
            "lr: 0.004621959590285652\n",
            "l2: 0.0011011540721501195\n",
            "num_layers: 2\n",
            "Score: 0.5403092503547668\n",
            "\n",
            "Trial 01 summary\n",
            "Hyperparameters:\n",
            "units: 512\n",
            "lr: 0.0001320105670093872\n",
            "l2: 0.04410320856052372\n",
            "num_layers: 2\n",
            "Score: 0.6169450879096985\n"
          ]
        }
      ],
      "source": [
        "# Examining the results\n",
        "tuner.results_summary(5)  # printing out the top 5 models"
      ]
    },
    {
      "cell_type": "markdown",
      "source": [
        "After looking at each model we choose the best performing one (aka the one with the lowest score). In this case it was trial number 2"
      ],
      "metadata": {
        "id": "eMriOsQ-TDhX"
      }
    },
    {
      "cell_type": "code",
      "execution_count": null,
      "metadata": {
        "colab": {
          "base_uri": "https://localhost:8080/"
        },
        "id": "VconlBKj1SSq",
        "outputId": "dc619870-1b88-4867-fa08-c5679b8567fb"
      },
      "outputs": [
        {
          "output_type": "execute_result",
          "data": {
            "text/plain": [
              "<tensorflow.python.checkpoint.checkpoint.CheckpointLoadStatus at 0x7a101c654100>"
            ]
          },
          "metadata": {},
          "execution_count": 66
        }
      ],
      "source": [
        "import json\n",
        "from sklearn.metrics import confusion_matrix\n",
        "\n",
        "trial_num = \"02\" #best performing model number\n",
        "with open(f\"/content/drive/MyDrive/FashionMnistResult/untitled_project/trial_{trial_num}/trial.json\", \"r\") as f:\n",
        "    trial = json.load(f)\n",
        "hp = trial[\"hyperparameters\"][\"values\"]\n",
        "model = define_model(units=hp[\"units\"], num_layers=hp[\"num_layers\"], activation=\"relu\", lr=hp[\"lr\"],\n",
        "                     l2=hp[\"l2\"])\n",
        "\n",
        "model.load_weights(f\"/content/drive/MyDrive/FashionMnistResult/untitled_project/trial_{trial_num}/checkpoint\")"
      ]
    },
    {
      "cell_type": "markdown",
      "source": [
        "This code calculates the accuracy of the test and displays the confusion matrix"
      ],
      "metadata": {
        "id": "o8ipn1YZSv0v"
      }
    },
    {
      "cell_type": "code",
      "execution_count": null,
      "metadata": {
        "colab": {
          "base_uri": "https://localhost:8080/"
        },
        "id": "hhR20ZjV1pRO",
        "outputId": "9778eb2e-44f3-45aa-b691-3a59d1337092"
      },
      "outputs": [
        {
          "output_type": "stream",
          "name": "stdout",
          "text": [
            "313/313 [==============================] - 1s 4ms/step\n",
            "0.8825\n",
            "[[872   0  16  20   2   2  80   0   8   0]\n",
            " [  4 963   0  24   4   0   3   0   2   0]\n",
            " [ 23   1 809  10  65   1  82   0   9   0]\n",
            " [ 27   4   8 896  34   0  26   0   5   0]\n",
            " [  2   1 110  23 741   0 116   0   7   0]\n",
            " [  0   0   0   0   0 965   0  21   1  13]\n",
            " [149   0  72  29  39   0 687   0  24   0]\n",
            " [  0   0   0   0   0  11   0 964   3  22]\n",
            " [  6   0   2   4   2   3   2   2 979   0]\n",
            " [  1   0   0   0   0   5   0  45   0 949]]\n"
          ]
        }
      ],
      "source": [
        "y_pred = np.argmax(model.predict(X_test_norm), axis=1)\n",
        "cm = confusion_matrix(test_y, y_pred) #creating confusion matrix\n",
        "accuracy = sum(y_pred == test_y) / len(test_y) #calculating accuracy\n",
        "print(accuracy)\n",
        "print(cm)"
      ]
    },
    {
      "cell_type": "markdown",
      "source": [
        "From this we can see that the model is accurate 88.25% of the time. This is a substantially higher accuracy than if we were guessing randomly which demonstrates that it can be a useful tool in this particular case."
      ],
      "metadata": {
        "id": "k7UhKoWUu97z"
      }
    }
  ],
  "metadata": {
    "colab": {
      "provenance": []
    },
    "kernelspec": {
      "display_name": "Python 3",
      "name": "python3"
    },
    "language_info": {
      "name": "python"
    }
  },
  "nbformat": 4,
  "nbformat_minor": 0
}